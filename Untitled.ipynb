{
 "cells": [
  {
   "cell_type": "code",
   "execution_count": null,
   "id": "4e6a240e",
   "metadata": {},
   "outputs": [],
   "source": [
    "import cv2, sys, numpy, os"
   ]
  },
  {
   "cell_type": "code",
   "execution_count": null,
   "id": "8863115f",
   "metadata": {},
   "outputs": [],
   "source": [
    "haar_file = 'haarcascade_frontalface_default.xml'"
   ]
  },
  {
   "cell_type": "code",
   "execution_count": null,
   "id": "e1e1f450",
   "metadata": {},
   "outputs": [],
   "source": [
    "# All the faces data will be present in this folder\n",
    "datasets = 'datasets'"
   ]
  },
  {
   "cell_type": "code",
   "execution_count": null,
   "id": "71149e73",
   "metadata": {},
   "outputs": [],
   "source": [
    "sub_data = 'Hozefa'"
   ]
  },
  {
   "cell_type": "code",
   "execution_count": null,
   "id": "f14e245b",
   "metadata": {},
   "outputs": [],
   "source": [
    "path = os.path.join(datasets, sub_data)\n",
    "if not os.path.isdir(path):\n",
    "    os.mkdir(path)"
   ]
  },
  {
   "cell_type": "code",
   "execution_count": null,
   "id": "53d8c2e7",
   "metadata": {},
   "outputs": [],
   "source": [
    "# defining the size of images \n",
    "(width, height) = (130, 100)"
   ]
  },
  {
   "cell_type": "code",
   "execution_count": null,
   "id": "c085f8a2",
   "metadata": {},
   "outputs": [],
   "source": [
    "face_cascade = cv2.CascadeClassifier(haar_file)\n",
    "webcam = cv2.VideoCapture(0) "
   ]
  },
  {
   "cell_type": "code",
   "execution_count": null,
   "id": "fee6276c",
   "metadata": {},
   "outputs": [],
   "source": [
    "# The program loops until it has 30 images of the face.\n",
    "count = 1\n",
    "while count < 30: \n",
    "    (_, im) = webcam.read()\n",
    "    gray = cv2.cvtColor(im, cv2.COLOR_BGR2GRAY)\n",
    "    faces = face_cascade.detectMultiScale(gray, 1.3, 4)\n",
    "    for (x, y, w, h) in faces:\n",
    "        cv2.rectangle(im, (x, y), (x + w, y + h), (255, 0, 0), 2)\n",
    "        face = gray[y:y + h, x:x + w]\n",
    "        face_resize = cv2.resize(face, (width, height))\n",
    "        cv2.imwrite('% s/% s.png' % (path, count), face_resize)\n",
    "    count += 1\n",
    "      \n",
    "    cv2.imshow('OpenCV', im)\n",
    "    key = cv2.waitKey(10)\n",
    "    if key == 27:\n",
    "        break"
   ]
  },
  {
   "cell_type": "code",
   "execution_count": null,
   "id": "29cd9505",
   "metadata": {},
   "outputs": [],
   "source": [
    "# It helps in identifying the faces\n",
    "import cv2, sys, numpy, os\n",
    "size = 4\n",
    "haar_file = 'haarcascade_frontalface_default.xml'\n",
    "datasets = 'datasets'\n",
    "  \n",
    "# Part 1: Create fisherRecognizer\n",
    "print('Recognizing Face Please Be in sufficient Lights...')\n",
    "  \n",
    "# Create a list of images and a list of corresponding names\n",
    "(images, labels, names, id) = ([], [], {}, 0)\n",
    "for (subdirs, dirs, files) in os.walk(datasets):\n",
    "    for subdir in dirs:\n",
    "        names[id] = subdir\n",
    "        subjectpath = os.path.join(datasets, subdir)\n",
    "        for filename in os.listdir(subjectpath):\n",
    "            path = subjectpath + '/' + filename\n",
    "            label = id\n",
    "            images.append(cv2.imread(path, 0))\n",
    "            labels.append(int(label))\n",
    "        id += 1\n",
    "(width, height) = (130, 100)\n",
    "  \n",
    "# Create a Numpy array from the two lists above\n",
    "(images, labels) = [numpy.array(lis) for lis in [images, labels]]\n",
    "  \n",
    "# OpenCV trains a model from the images\n",
    "# NOTE FOR OpenCV2: remove '.face'\n",
    "model = cv2.face.LBPHFaceRecognizer_create()\n",
    "model.train(images, labels)\n",
    "  \n",
    "# Part 2: Use fisherRecognizer on camera stream\n",
    "face_cascade = cv2.CascadeClassifier(haar_file)\n",
    "webcam = cv2.VideoCapture(0)\n",
    "while True:\n",
    "    (_, im) = webcam.read()\n",
    "    gray = cv2.cvtColor(im, cv2.COLOR_BGR2GRAY)\n",
    "    faces = face_cascade.detectMultiScale(gray, 1.3, 5)\n",
    "    for (x, y, w, h) in faces:\n",
    "        cv2.rectangle(im, (x, y), (x + w, y + h), (255, 0, 0), 2)\n",
    "        face = gray[y:y + h, x:x + w]\n",
    "        face_resize = cv2.resize(face, (width, height))\n",
    "        # Try to recognize the face\n",
    "        prediction = model.predict(face_resize)\n",
    "        cv2.rectangle(im, (x, y), (x + w, y + h), (0, 255, 0), 3)\n",
    "  \n",
    "        if prediction[1]<500:\n",
    "  \n",
    "           cv2.putText(im, '% s - %.0f' % \n",
    "(names[prediction[0]], prediction[1]), (x-10, y-10), \n",
    "cv2.FONT_HERSHEY_PLAIN, 1, (0, 255, 0))\n",
    "        else:\n",
    "          cv2.putText(im, 'not recognized', \n",
    "(x-10, y-10), cv2.FONT_HERSHEY_PLAIN, 1, (0, 255, 0))\n",
    "  \n",
    "    cv2.imshow('OpenCV', im)\n",
    "      \n",
    "    key = cv2.waitKey(10)\n",
    "    if key == 27:\n",
    "        break"
   ]
  },
  {
   "cell_type": "code",
   "execution_count": null,
   "id": "954a7d1e",
   "metadata": {},
   "outputs": [],
   "source": []
  }
 ],
 "metadata": {
  "kernelspec": {
   "display_name": "Python 3 (ipykernel)",
   "language": "python",
   "name": "python3"
  },
  "language_info": {
   "codemirror_mode": {
    "name": "ipython",
    "version": 3
   },
   "file_extension": ".py",
   "mimetype": "text/x-python",
   "name": "python",
   "nbconvert_exporter": "python",
   "pygments_lexer": "ipython3",
   "version": "3.9.9"
  }
 },
 "nbformat": 4,
 "nbformat_minor": 5
}
